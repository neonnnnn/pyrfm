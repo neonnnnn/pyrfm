{
 "cells": [
  {
   "cell_type": "markdown",
   "metadata": {},
   "source": [
    "# Explicit Feature Maps for the Intersection Kernel\n",
    "\n",
    "In this example, we run `MB`, which is the explicit feature map for the intersection kernel, and `SparseMBClassifier`, which is a linear model with the sparse explicit feature map for the intersection kernel.\n",
    "\n",
    "The intersection kernel $$K(\\mathbf{x}, \\mathbf{y}) = \\sum_{i=1}^n \\min (x_i, y_i)$$\n",
    "\n",
    "is used in computer vision task.\n",
    "\n",
    "## Dataset\n",
    "We use the **INRIAPerson dataset** that is aviabale at http://pascal.inrialpes.fr/data/human/.\n",
    "In this example, we assume that the dataset is located here (./).\n",
    "`pos_img_dir_tr`, `neg_img_dir_tr`, `pos_img_dir_te`, `neg_img_dir_te` are file pathes for data."
   ]
  },
  {
   "cell_type": "markdown",
   "metadata": {},
   "source": [
    "## Create HOG features"
   ]
  },
  {
   "cell_type": "code",
   "execution_count": 1,
   "metadata": {},
   "outputs": [],
   "source": [
    "# Author referred the implementation at https://github.com/Ermlab/hog-svm-inria\n",
    "import os\n",
    "from skimage import io\n",
    "from skimage.feature import hog\n",
    "import numpy as np\n",
    "\n",
    "W = 64\n",
    "H = 128\n",
    "\n",
    "def load_hog_data(pos_img_dir, neg_img_dir, random_state,\n",
    "                  n_pos_samples=5, n_neg_samples=10):\n",
    "    pos_img_files = os.listdir(pos_img_dir)\n",
    "    neg_img_files = os.listdir(neg_img_dir)\n",
    "    X = []\n",
    "    y = []\n",
    "    print('start loading ' + str(len(pos_img_files)) + ' positive files')\n",
    "    for pos_img_file in pos_img_files:\n",
    "        pos_filepath = pos_img_dir + pos_img_file\n",
    "        pos_img = io.imread(pos_filepath, as_gray=True)\n",
    "        for i in range(n_pos_samples):\n",
    "            leftop_y = random_state.randint(pos_img.shape[0] - H)\n",
    "            leftop_x = random_state.randint(pos_img.shape[1] - W)\n",
    "            pos_roi = pos_img[leftop_y:leftop_y+H, leftop_x:leftop_x+W]\n",
    "            fd = hog(pos_roi, orientations=9, pixels_per_cell=(8, 8),\n",
    "                     cells_per_block=(2, 2), visualize=False)\n",
    "            X.append(fd)\n",
    "            y.append(1)\n",
    "    \n",
    "    print('start loading ' + str(len(neg_img_files)) + ' negative files')\n",
    "    for neg_img_file in neg_img_files:\n",
    "        neg_filepath = neg_img_dir + neg_img_file\n",
    "        neg_img = io.imread(neg_filepath, as_gray=True)\n",
    "        for i in range(n_neg_samples):\n",
    "            leftop_y = random_state.randint(neg_img.shape[0] - H)\n",
    "            leftop_x = random_state.randint(neg_img.shape[1] - W)\n",
    "            neg_roi = neg_img[leftop_y:leftop_y+H, leftop_x:leftop_x+W]\n",
    "            fd = hog(neg_roi, orientations=9, pixels_per_cell=(8, 8), \n",
    "                     cells_per_block=(2, 2), visualize=False)\n",
    "            X.append(fd)\n",
    "            y.append(-1)\n",
    "    ## covert list into numpy array\n",
    "    X = np.array(X)\n",
    "    y = np.array(y)\n",
    "    return X, y"
   ]
  },
  {
   "cell_type": "code",
   "execution_count": 2,
   "metadata": {},
   "outputs": [
    {
     "name": "stdout",
     "output_type": "stream",
     "text": [
      "start loading 2416 positive files\n",
      "start loading 1218 negative files\n",
      "start loading 1126 positive files\n",
      "start loading 453 negative files\n",
      "(14556, 3780) (14556,)\n",
      "(4517, 3780) (4517,)\n"
     ]
    }
   ],
   "source": [
    "# put your path to INRIAPerson dataset that is aviabale \n",
    "# at http://pascal.inrialpes.fr/data/human/\n",
    "pos_img_dir_tr = 'INRIAPerson/train_64x128_H96/pos/'\n",
    "neg_img_dir_tr = 'INRIAPerson/train_64x128_H96/neg/'\n",
    "pos_img_dir_te = 'INRIAPerson/test_64x128_H96/pos/'\n",
    "neg_img_dir_te = 'INRIAPerson/test_64x128_H96/neg/'\n",
    "from sklearn.utils import shuffle\n",
    "random_state = np.random.RandomState(0)\n",
    "X_train, y_train = load_hog_data(pos_img_dir_tr, neg_img_dir_tr,\n",
    "                                 random_state, 3, 6)\n",
    "X_test, y_test = load_hog_data(pos_img_dir_te, neg_img_dir_te,\n",
    "                               random_state, 2, 5)\n",
    "X_train, y_train = shuffle(X_train, y_train)\n",
    "X_test, y_test = shuffle(X_test, y_test)\n",
    "\n",
    "print(X_train.shape, y_train.shape)\n",
    "print(X_test.shape, y_test.shape)"
   ]
  },
  {
   "cell_type": "code",
   "execution_count": 3,
   "metadata": {},
   "outputs": [
    {
     "name": "stdout",
     "output_type": "stream",
     "text": [
      "0.9416213209047779\n"
     ]
    }
   ],
   "source": [
    "# number of non-zero elements\n",
    "print(np.count_nonzero(X_train) / np.prod(X_train.shape))"
   ]
  },
  {
   "cell_type": "code",
   "execution_count": 4,
   "metadata": {},
   "outputs": [
    {
     "name": "stderr",
     "output_type": "stream",
     "text": [
      "/mnt/c/Users/kyohei/home_ubuntu/.local/share/virtualenvs/pipenv3.7.4-rkmnVTJV/lib/python3.7/site-packages/sklearn/externals/six.py:31: DeprecationWarning: The module is deprecated in version 0.21 and will be removed in version 0.23 since we've dropped support for Python 2.7. Please rely on the official version of six (https://pypi.org/project/six/).\n",
      "  \"(https://pypi.org/project/six/).\", DeprecationWarning)\n"
     ]
    }
   ],
   "source": [
    "from sklearn.svm import SVC, LinearSVC\n",
    "from pyrfm.kernels import intersection\n",
    "from pyrfm import MB, SparseMBClassifier, SparseMB\n",
    "from sklearn.metrics import roc_curve, auc, roc_auc_score, accuracy_score\n",
    "import matplotlib.pyplot as plt"
   ]
  },
  {
   "cell_type": "markdown",
   "metadata": {},
   "source": [
    "## `LinearSVC` with HOG feature"
   ]
  },
  {
   "cell_type": "code",
   "execution_count": 5,
   "metadata": {},
   "outputs": [
    {
     "name": "stdout",
     "output_type": "stream",
     "text": [
      "Accuracy :0.9032543723710428\n",
      "ROC AUC: 0.9676486733401557\n",
      "CPU times: user 26.1 s, sys: 328 ms, total: 26.4 s\n",
      "Wall time: 26.7 s\n"
     ]
    }
   ],
   "source": [
    "%%time\n",
    "clf = LinearSVC(dual=False, random_state=0)\n",
    "clf.fit(X_train, y_train)\n",
    "y_score = clf.decision_function(X_test)\n",
    "acc = accuracy_score(y_true=y_test, y_pred=np.sign(y_score))\n",
    "roc_auc = roc_auc_score(y_true=y_test, y_score=y_score)\n",
    "print(\"Accuracy :{}\".format(acc))\n",
    "print(\"ROC AUC: {}\".format(roc_auc))\n",
    "fpr_linear, tpr_linear, _ = roc_curve(y_test, y_score)"
   ]
  },
  {
   "cell_type": "markdown",
   "metadata": {},
   "source": [
    "## `SVC` with intersection kernel\n",
    " - Using all samples is prohibitive\n",
    " - We use only 2,000 samples and set `max_iter=500`"
   ]
  },
  {
   "cell_type": "code",
   "execution_count": 7,
   "metadata": {},
   "outputs": [
    {
     "name": "stderr",
     "output_type": "stream",
     "text": [
      "/mnt/c/Users/kyohei/home_ubuntu/.local/share/virtualenvs/pipenv3.7.4-rkmnVTJV/lib/python3.7/site-packages/sklearn/svm/base.py:241: ConvergenceWarning: Solver terminated early (max_iter=500).  Consider pre-processing your data with StandardScaler or MinMaxScaler.\n",
      "  % self.max_iter, ConvergenceWarning)\n"
     ]
    },
    {
     "name": "stdout",
     "output_type": "stream",
     "text": [
      "Accuracy :0.9143236661500996\n",
      "ROC AUC: 0.9753935672583408\n",
      "CPU times: user 3min 50s, sys: 375 ms, total: 3min 50s\n",
      "Wall time: 3min 54s\n"
     ]
    }
   ],
   "source": [
    "%%time\n",
    "clf = SVC(kernel=intersection, cache_size=3000, max_iter=500)\n",
    "clf.fit(X_train[:2000], y_train[:2000])\n",
    "clf.score(X_test, y_test)\n",
    "y_score = clf.decision_function(X_test)\n",
    "acc = accuracy_score(y_true=y_test, y_pred=np.sign(y_score))\n",
    "roc_auc = roc_auc_score(y_true=y_test, y_score=y_score)\n",
    "print(\"Accuracy :{}\".format(acc))\n",
    "print(\"ROC AUC: {}\".format(roc_auc))\n",
    "fpr_svc, tpr_svc, _ = roc_curve(y_test, y_score)"
   ]
  },
  {
   "cell_type": "markdown",
   "metadata": {},
   "source": [
    "## `LinearSVC` with `MB`\n",
    " - You can use `MB` in the same way as other transformers"
   ]
  },
  {
   "cell_type": "code",
   "execution_count": 8,
   "metadata": {},
   "outputs": [
    {
     "name": "stderr",
     "output_type": "stream",
     "text": [
      "/mnt/c/Users/kyohei/home_ubuntu/.local/share/virtualenvs/pipenv3.7.4-rkmnVTJV/lib/python3.7/site-packages/sklearn/svm/base.py:929: ConvergenceWarning: Liblinear failed to converge, increase the number of iterations.\n",
      "  \"the number of iterations.\", ConvergenceWarning)\n"
     ]
    },
    {
     "name": "stdout",
     "output_type": "stream",
     "text": [
      "Accuracy :0.9360194819570511\n",
      "ROC AUC: 0.9816192817569078\n",
      "CPU times: user 2min 40s, sys: 14.1 s, total: 2min 54s\n",
      "Wall time: 2min 58s\n"
     ]
    }
   ],
   "source": [
    "%%time\n",
    "transformer = MB(n_components=20*X_train.shape[1])\n",
    "X_train_trans = transformer.fit_transform(X_train)\n",
    "X_test_trans = transformer.transform(X_test)\n",
    "clf = LinearSVC()\n",
    "clf.fit(X_train_trans, y_train)\n",
    "y_score = clf.decision_function(X_test_trans)\n",
    "acc = accuracy_score(y_true=y_test, y_pred=np.sign(y_score))\n",
    "roc_auc = roc_auc_score(y_true=y_test, y_score=y_score)\n",
    "print(\"Accuracy :{}\".format(acc))\n",
    "print(\"ROC AUC: {}\".format(roc_auc))\n",
    "fpr_mb, tpr_mb, _ = roc_curve(y_test, y_score)"
   ]
  },
  {
   "cell_type": "code",
   "execution_count": 9,
   "metadata": {},
   "outputs": [
    {
     "name": "stdout",
     "output_type": "stream",
     "text": [
      "0.15266360732714815\n"
     ]
    }
   ],
   "source": [
    "# Sparsity of the MB features\n",
    "print(X_train_trans.nnz / np.prod(X_train_trans.shape))"
   ]
  },
  {
   "cell_type": "markdown",
   "metadata": {},
   "source": [
    "## `SparseMBClassifier`\n",
    "- This is a linear model with the sparse explicit feature map for the intersection kernel\n",
    "- You can use it in the same way as other classifiers"
   ]
  },
  {
   "cell_type": "code",
   "execution_count": 10,
   "metadata": {},
   "outputs": [
    {
     "name": "stdout",
     "output_type": "stream",
     "text": [
      "Accuracy :0.9211866282931149\n",
      "ROC AUC: 0.9753039731178368\n",
      "CPU times: user 1min 45s, sys: 10.2 s, total: 1min 55s\n",
      "Wall time: 1min 59s\n"
     ]
    }
   ],
   "source": [
    "%%time\n",
    "clf = SparseMBClassifier(n_components=X_train.shape[1]*20, max_iter=100,\n",
    "                         verbose=False, random_state=0)\n",
    "clf.fit(X_train, y_train)\n",
    "y_score = clf.decision_function(X_test)\n",
    "acc = accuracy_score(y_true=y_test, y_pred=np.sign(y_score))\n",
    "roc_auc = roc_auc_score(y_true=y_test, y_score=y_score)\n",
    "print(\"Accuracy :{}\".format(acc))\n",
    "print(\"ROC AUC: {}\".format(roc_auc))\n",
    "fpr_sparsemb, tpr_sparsemb, _ = roc_curve(y_test, y_score)"
   ]
  },
  {
   "cell_type": "markdown",
   "metadata": {},
   "source": [
    "## ROC Curves\n",
    "- The curve reaching to the top left is better"
   ]
  },
  {
   "cell_type": "code",
   "execution_count": 13,
   "metadata": {},
   "outputs": [
    {
     "data": {
      "image/png": "[encoded data removed]",
      "text/plain": [
       "<Figure size 432x288 with 1 Axes>"
      ]
     },
     "metadata": {
      "needs_background": "light"
     },
     "output_type": "display_data"
    }
   ],
   "source": [
    "%matplotlib inline\n",
    "plt.plot(fpr_linear, tpr_linear, label='LinearSVC')\n",
    "plt.plot(fpr_svc, tpr_svc, label='SVC with Intersection')\n",
    "plt.plot(fpr_mb, tpr_mb, label='MB')\n",
    "plt.plot(fpr_sparsemb, tpr_sparsemb,\n",
    "         label='SparseMB (= PWL)')\n",
    "plt.ylim([0.5, 1])\n",
    "plt.legend()\n",
    "plt.show()"
   ]
  }
 ],
 "metadata": {
  "kernelspec": {
   "display_name": "Python 3",
   "language": "python",
   "name": "python3"
  },
  "language_info": {
   "codemirror_mode": {
    "name": "ipython",
    "version": 3
   },
   "file_extension": ".py",
   "mimetype": "text/x-python",
   "name": "python",
   "nbconvert_exporter": "python",
   "pygments_lexer": "ipython3",
   "version": "3.7.4"
  }
 },
 "nbformat": 4,
 "nbformat_minor": 4
}
