{
 "cells": [
  {
   "cell_type": "markdown",
   "metadata": {},
   "source": [
    "# RBF Approximators\n",
    "In this example, we run some random feature maps for shift-invariant kernels, especially the RBF kernel."
   ]
  },
  {
   "cell_type": "code",
   "execution_count": null,
   "metadata": {},
   "outputs": [],
   "source": [
    "from sklearn.datasets import fetch_openml\n",
    "from sklearn.svm import SVC, LinearSVC\n",
    "from sklearn.kernel_approximation import RBFSampler\n",
    "from sklearn.utils import shuffle\n",
    "import numpy as np"
   ]
  },
  {
   "cell_type": "code",
   "execution_count": null,
   "metadata": {},
   "outputs": [],
   "source": [
    "a9a = fetch_openml('a9a')\n",
    "X, y = a9a.data, a9a.target\n",
    "random_state = np.random.RandomState(0)\n",
    "X, y = shuffle(X, y, random_state=random_state)\n",
    "\n",
    "# undersampling\n",
    "pos_indices = np.where(y > 0)[0]\n",
    "neg_indices = np.where(y < 0)[0]\n",
    "indices = np.sort(np.append(pos_indices, neg_indices[:len(pos_indices)]))\n",
    "X, y = X[indices], y[indices]\n",
    "X, y = shuffle(X, y, random_state=random_state)\n",
    "\n",
    "# train/test split\n",
    "n_train = int(0.8 * X.shape[0])\n",
    "X_train, y_train = X[:n_train], y[:n_train]\n",
    "X_test, y_test = X[n_train:], y[n_train:]\n",
    "print(X_train.shape, y_train.shape, X_test.shape, y_test.shape)"
   ]
  },
  {
   "cell_type": "code",
   "execution_count": null,
   "metadata": {},
   "outputs": [],
   "source": [
    "# standarize\n",
    "from sklearn.preprocessing import StandardScaler\n",
    "ss = StandardScaler(with_mean=False)\n",
    "X_train = ss.fit_transform(X_train)\n",
    "X_test = ss.transform(X_test)"
   ]
  },
  {
   "cell_type": "markdown",
   "metadata": {},
   "source": [
    "### Comparison of the accuracy and training/testing time among `SVC` with RBF kernel and `LinearSVC` with random feature\n",
    "\n",
    " - `RBFSampler` (=`RandomFourier`)\n",
    " - `OrthogonalRandomFeature`\n",
    " - `FastFood`\n",
    " - `StructuredOrthogonalRandomFeature`\n",
    " - `SignedCirculantRandomMatrix` \n",
    " - Higher score is better\n",
    " - Lower time is better\n",
    " - Unfortunately, structured random features are not so fast since the number of features is small (=123)"
   ]
  },
  {
   "cell_type": "code",
   "execution_count": null,
   "metadata": {},
   "outputs": [],
   "source": [
    "%%time\n",
    "# Non-linear SVC\n",
    "svc = SVC(kernel='rbf', gamma=0.001, random_state=0)\n",
    "svc.fit(X_train, y_train)\n",
    "print(svc.score(X_test, y_test))"
   ]
  },
  {
   "cell_type": "code",
   "execution_count": null,
   "metadata": {},
   "outputs": [],
   "source": [
    "%%time\n",
    "# LinearSVC with RBFSampler\n",
    "transformer = RBFSampler(n_components=1024, gamma=0.001, random_state=0)\n",
    "X_train_trans = transformer.fit_transform(X_train)\n",
    "X_test_trans = transformer.transform(X_test)\n",
    "clf = LinearSVC(dual=False, C=1)\n",
    "clf.fit(X_train_trans, y_train)\n",
    "print(clf.score(X_test_trans, y_test))"
   ]
  },
  {
   "cell_type": "code",
   "execution_count": null,
   "metadata": {},
   "outputs": [],
   "source": [
    "from pyrfm import RandomFourier, FastFood, SignedCirculantRandomMatrix\n",
    "from pyrfm import OrthogonalRandomFeature, StructuredOrthogonalRandomFeature"
   ]
  },
  {
   "cell_type": "code",
   "execution_count": null,
   "metadata": {},
   "outputs": [],
   "source": [
    "%%time\n",
    "# LinearSVC with RandomFourier with use_offset=False (Z=(cos, sin, cos, sin, ...))\n",
    "transformer = RandomFourier(n_components=1024, gamma=0.001, use_offset=False,\n",
    "                            random_state=0)\n",
    "X_train_trans = transformer.fit_transform(X_train)\n",
    "X_test_trans = transformer.transform(X_test)\n",
    "clf = LinearSVC(dual=False, C=1)\n",
    "clf.fit(X_train_trans, y_train)\n",
    "print(clf.score(X_test_trans, y_test))"
   ]
  },
  {
   "cell_type": "code",
   "execution_count": null,
   "metadata": {},
   "outputs": [],
   "source": [
    "%%time\n",
    "# LinearSVC with RandomFourier with use_offset=True (Z=(cos, cos, ...))\n",
    "transformer = RandomFourier(n_components=1024, gamma=0.001, use_offset=True,\n",
    "                            random_state=0)\n",
    "X_train_trans = transformer.fit_transform(X_train)\n",
    "X_test_trans = transformer.transform(X_test)\n",
    "clf = LinearSVC(dual=False, C=1)\n",
    "clf.fit(X_train_trans, y_train)\n",
    "print(clf.score(X_test_trans, y_test))"
   ]
  },
  {
   "cell_type": "code",
   "execution_count": null,
   "metadata": {},
   "outputs": [],
   "source": [
    "%%time\n",
    "# LinearSVC with OrthogonalRandomFeature \n",
    "transformer = OrthogonalRandomFeature(n_components=1024, gamma=0.001, \n",
    "                                      random_state=0)\n",
    "X_train_trans = transformer.fit_transform(X_train)\n",
    "X_test_trans = transformer.transform(X_test)\n",
    "clf = LinearSVC(dual=False, C=1)\n",
    "clf.fit(X_train_trans, y_train)\n",
    "print(clf.score(X_test_trans, y_test))"
   ]
  },
  {
   "cell_type": "code",
   "execution_count": null,
   "metadata": {},
   "outputs": [],
   "source": [
    "%%time\n",
    "# LinearSVC with OrthogonalRandomFeature \n",
    "transformer = OrthogonalRandomFeature(n_components=1024, gamma=0.001, \n",
    "                                      random_state=0, use_offset=True)\n",
    "X_train_trans = transformer.fit_transform(X_train)\n",
    "X_test_trans = transformer.transform(X_test)\n",
    "clf = LinearSVC(dual=False, C=1)\n",
    "clf.fit(X_train_trans, y_train)\n",
    "print(clf.score(X_test_trans, y_test))"
   ]
  },
  {
   "cell_type": "code",
   "execution_count": null,
   "metadata": {},
   "outputs": [],
   "source": [
    "%%time\n",
    "# LinearSVC with StructuredOrthogonalRandomFeature\n",
    "transformer = StructuredOrthogonalRandomFeature(n_components=1024, gamma=0.001, \n",
    "                                                random_state=0)\n",
    "X_train_trans = transformer.fit_transform(X_train)\n",
    "X_test_trans = transformer.transform(X_test)\n",
    "clf = LinearSVC(dual=False, C=1)\n",
    "clf.fit(X_train_trans, y_train)\n",
    "print(clf.score(X_test_trans, y_test))"
   ]
  },
  {
   "cell_type": "code",
   "execution_count": 12,
   "metadata": {},
   "outputs": [
    {
     "name": "stdout",
     "output_type": "stream",
     "text": [
      "0.8228877005347593\n",
      "CPU times: user 5.7 s, sys: 516 ms, total: 6.22 s\n",
      "Wall time: 6.22 s\n"
     ]
    }
   ],
   "source": [
    "%%time\n",
    "# LinearSVC with FastFood\n",
    "transformer = FastFood(n_components=1024, gamma=0.001, random_state=0,\n",
    "                       random_fourier=True)\n",
    "X_train_trans = transformer.fit_transform(X_train)\n",
    "X_test_trans = transformer.transform(X_test)\n",
    "clf = LinearSVC(dual=False, C=1)\n",
    "clf.fit(X_train_trans, y_train)\n",
    "print(clf.score(X_test_trans, y_test))"
   ]
  },
  {
   "cell_type": "code",
   "execution_count": 13,
   "metadata": {},
   "outputs": [
    {
     "name": "stderr",
     "output_type": "stream",
     "text": [
      "/mnt/c/Users/kyohei/home_ubuntu/.local/share/virtualenvs/pipenv3.7.4-rkmnVTJV/lib/python3.7/site-packages/pyrfm-1.0.0-py3.7-linux-x86_64.egg/pyrfm/random_feature/signed_circulant_random_projection.py:130: UserWarning: n_components is changed from 1024 to 1230. You should set n_components n-tuple of the n_features.\n",
      "  .format(self.n_components, n_components))\n"
     ]
    },
    {
     "name": "stdout",
     "output_type": "stream",
     "text": [
      "0.8220320855614973\n",
      "CPU times: user 8.33 s, sys: 844 ms, total: 9.17 s\n",
      "Wall time: 8.96 s\n"
     ]
    }
   ],
   "source": [
    "%%time\n",
    "# LinearSVC with SignedCirculantRandomMatrix\n",
    "transformer = SignedCirculantRandomMatrix(n_components=1024, gamma=0.001, random_state=0,\n",
    "                                          random_fourier=True)\n",
    "X_train_trans = transformer.fit_transform(X_train)\n",
    "X_test_trans = transformer.transform(X_test)\n",
    "clf = LinearSVC(dual=False, C=1)\n",
    "clf.fit(X_train_trans, y_train)\n",
    "print(clf.score(X_test_trans, y_test))"
   ]
  },
  {
   "cell_type": "code",
   "execution_count": 14,
   "metadata": {},
   "outputs": [],
   "source": [
    "import timeit"
   ]
  },
  {
   "cell_type": "markdown",
   "metadata": {},
   "source": [
    "### Comparison of the transform times on relativey high-dimensional data among `RBFSampler`, `StructuredOrthogonalRandomFeature`, `Fastfood`, and `SignedCirculantRandomMatrix`\n",
    " - Generate datasets with various number of features\n",
    " - Lower is better\n",
    " - `RBFSampler` (=`RandomFourier`): Linear time\n",
    " - Others: Log time\n"
   ]
  },
  {
   "cell_type": "code",
   "execution_count": 15,
   "metadata": {},
   "outputs": [
    {
     "name": "stdout",
     "output_type": "stream",
     "text": [
      "n_features: 256\n",
      "RBFSampler: 6.093467640000017\n",
      "StructuredOrthogonalRandomFeature: 7.078550559999985\n",
      "FastFood: 6.570585600000004\n",
      "SignedCirculantRandomFeature: 12.383045719999973\n",
      "\n",
      "n_features: 512\n",
      "RBFSampler: 7.353441720000001\n",
      "StructuredOrthogonalRandomFeature: 7.262238579999985\n",
      "FastFood: 6.620491459999994\n",
      "SignedCirculantRandomFeature: 12.47048420000001\n",
      "\n",
      "n_features: 1024\n",
      "RBFSampler: 9.63190840000002\n",
      "StructuredOrthogonalRandomFeature: 7.149680560000024\n",
      "FastFood: 6.596731799999998\n",
      "SignedCirculantRandomFeature: 12.81946767999998\n",
      "\n",
      "n_features: 2048\n",
      "RBFSampler: 14.848115839999991\n",
      "StructuredOrthogonalRandomFeature: 7.342096059999994\n",
      "FastFood: 6.639268979999997\n",
      "SignedCirculantRandomFeature: 13.611048720000008\n",
      "\n",
      "n_features: 4096\n",
      "RBFSampler: 26.442517420000012\n",
      "StructuredOrthogonalRandomFeature: 7.2083950400000045\n",
      "FastFood: 6.687563479999971\n",
      "SignedCirculantRandomFeature: 16.579174780000038\n",
      "\n",
      "RBFSampler: [6.093467640000017, 7.353441720000001, 9.63190840000002, 14.848115839999991, 26.442517420000012]\n",
      "StructuredOrthogonalRandomFeature: [7.078550559999985, 7.262238579999985, 7.149680560000024, 7.342096059999994, 7.2083950400000045]\n",
      "FastFood: [6.570585600000004, 6.620491459999994, 6.596731799999998, 6.639268979999997, 6.687563479999971]\n",
      "SignedCirculantRandomMatrix: [12.383045719999973, 12.47048420000001, 12.81946767999998, 13.611048720000008, 16.579174780000038]\n"
     ]
    }
   ],
   "source": [
    "rbf_times = []\n",
    "fastfood_times = []\n",
    "struc_times = []\n",
    "signed_times = []\n",
    "\n",
    "n_samples = 2**14\n",
    "n_components = 8192\n",
    "n_trials = 5\n",
    "for n_features in [256, 512, 1024, 2048, 4096]:\n",
    "    print(\"n_features: {}\".format(n_features))\n",
    "    X_synthesis = np.random.randn(n_samples, n_features)\n",
    "\n",
    "    rbf = RBFSampler(n_components=n_components)\n",
    "    result = timeit.timeit(\"rbf.fit_transform(X_synthesis)\", \n",
    "                           number=n_trials, globals=globals())\n",
    "    result /= n_trials\n",
    "    rbf_times += [result]\n",
    "    print(\"RBFSampler: {}\".format(result))\n",
    "    \n",
    "    struc = StructuredOrthogonalRandomFeature(n_components=n_components)\n",
    "    result = timeit.timeit(\"struc.fit_transform(X_synthesis)\", \n",
    "                           number=n_trials, globals=globals())\n",
    "    result /= n_trials\n",
    "    struc_times += [result]\n",
    "    print(\"StructuredOrthogonalRandomFeature: {}\".format(result))\n",
    "        \n",
    "    fastfood = FastFood(n_components=n_components)\n",
    "    result = timeit.timeit(\"fastfood.fit_transform(X_synthesis)\", \n",
    "                           number=n_trials, globals=globals())\n",
    "    result /= n_trials\n",
    "    fastfood_times += [result]\n",
    "    print(\"FastFood: {}\".format(result))\n",
    "\n",
    "    signed = SignedCirculantRandomMatrix(n_components=n_components)\n",
    "    result = timeit.timeit(\"signed.fit_transform(X_synthesis)\", \n",
    "                           number=n_trials, globals=globals())\n",
    "    result /= n_trials\n",
    "    signed_times += [result]\n",
    "    print(\"SignedCirculantRandomFeature: {}\".format(result))\n",
    "    print()\n",
    "\n",
    "print(\"RBFSampler: {}\".format(rbf_times))\n",
    "print(\"StructuredOrthogonalRandomFeature: {}\".format(struc_times))\n",
    "print(\"FastFood: {}\".format(fastfood_times))\n",
    "print(\"SignedCirculantRandomMatrix: {}\".format(signed_times))"
   ]
  },
  {
   "cell_type": "code",
   "execution_count": 16,
   "metadata": {},
   "outputs": [],
   "source": [
    "import matplotlib.pyplot as plt"
   ]
  },
  {
   "cell_type": "code",
   "execution_count": 17,
   "metadata": {},
   "outputs": [
    {
     "data": {
      "image/png": "[encoded data removed]",
      "text/plain": [
       "<Figure size 432x288 with 1 Axes>"
      ]
     },
     "metadata": {
      "needs_background": "light"
     },
     "output_type": "display_data"
    }
   ],
   "source": [
    "%matplotlib inline\n",
    "list_n_features = [256, 512, 1024, 2048, 4096]\n",
    "plt.plot(list_n_features, rbf_times, label='RBFSampler')\n",
    "plt.plot(list_n_features, struc_times, label='StructuredOrthogonal')\n",
    "plt.plot(list_n_features, fastfood_times, label='FastFood')\n",
    "plt.plot(list_n_features, signed_times, label='SignedCirculant')\n",
    "plt.legend()\n",
    "plt.xlabel(\"Number of features (log-scale)\")\n",
    "plt.ylabel(\"Time for transform (s)\")\n",
    "plt.xscale('log')\n",
    "plt.show()"
   ]
  },
  {
   "cell_type": "code",
   "execution_count": null,
   "metadata": {},
   "outputs": [],
   "source": []
  }
 ],
 "metadata": {
  "kernelspec": {
   "display_name": "Python 3",
   "language": "python",
   "name": "python3"
  },
  "language_info": {
   "codemirror_mode": {
    "name": "ipython",
    "version": 3
   },
   "file_extension": ".py",
   "mimetype": "text/x-python",
   "name": "python",
   "nbconvert_exporter": "python",
   "pygments_lexer": "ipython3",
   "version": "3.7.4"
  }
 },
 "nbformat": 4,
 "nbformat_minor": 4
}
