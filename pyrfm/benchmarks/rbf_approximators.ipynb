{
 "cells": [
  {
   "cell_type": "code",
   "execution_count": 1,
   "metadata": {},
   "outputs": [],
   "source": [
    "from sklearn.datasets import fetch_mldata\n",
    "from sklearn.svm import SVC, LinearSVC\n",
    "from sklearn.kernel_approximation import RBFSampler\n",
    "from sklearn.utils import shuffle\n",
    "import numpy as np"
   ]
  },
  {
   "cell_type": "code",
   "execution_count": 2,
   "metadata": {},
   "outputs": [
    {
     "name": "stdout",
     "output_type": "stream",
     "text": [
      "(18699, 123) (18699,) (4675, 123) (4675,)\n"
     ]
    },
    {
     "name": "stderr",
     "output_type": "stream",
     "text": [
      "/mnt/c/Users/kyohei/home_ubuntu/.local/share/virtualenvs/pipenv3.7.4-rkmnVTJV/lib/python3.7/site-packages/sklearn/utils/deprecation.py:85: DeprecationWarning: Function fetch_mldata is deprecated; fetch_mldata was deprecated in version 0.20 and will be removed in version 0.22. Please use fetch_openml.\n",
      "  warnings.warn(msg, category=DeprecationWarning)\n",
      "/mnt/c/Users/kyohei/home_ubuntu/.local/share/virtualenvs/pipenv3.7.4-rkmnVTJV/lib/python3.7/site-packages/sklearn/utils/deprecation.py:85: DeprecationWarning: Function mldata_filename is deprecated; mldata_filename was deprecated in version 0.20 and will be removed in version 0.22. Please use fetch_openml.\n",
      "  warnings.warn(msg, category=DeprecationWarning)\n"
     ]
    }
   ],
   "source": [
    "a9a = fetch_mldata('a9a')\n",
    "X, y = a9a.data, a9a.target\n",
    "random_state = np.random.RandomState(0)\n",
    "X, y = shuffle(X, y, random_state=random_state)\n",
    "\n",
    "# undersampling\n",
    "pos_indices = np.where(y > 0)[0]\n",
    "neg_indices = np.where(y < 0)[0]\n",
    "indices = np.sort(np.append(pos_indices, neg_indices[:len(pos_indices)]))\n",
    "X, y = X[indices], y[indices]\n",
    "X, y = shuffle(X, y, random_state=random_state)\n",
    "\n",
    "# train/test split\n",
    "n_train = int(0.8 * X.shape[0])\n",
    "X_train, y_train = X[:n_train], y[:n_train]\n",
    "X_test, y_test = X[n_train:], y[n_train:]\n",
    "print(X_train.shape, y_train.shape, X_test.shape, y_test.shape)"
   ]
  },
  {
   "cell_type": "code",
   "execution_count": 3,
   "metadata": {},
   "outputs": [],
   "source": [
    "# standarize\n",
    "from sklearn.preprocessing import StandardScaler\n",
    "ss = StandardScaler(with_mean=False)\n",
    "X_train = ss.fit_transform(X_train)\n",
    "X_test = ss.transform(X_test)"
   ]
  },
  {
   "cell_type": "markdown",
   "metadata": {},
   "source": [
    "### Comparison of the accuracy and training/testing time among `SVC` with RBF kernel and `LinearSVC` with random feature\n",
    "\n",
    " - `RBFSampler` (=`RandomFourier`)\n",
    " - `OrthogonalRandomFeature`\n",
    " - `FastFood`\n",
    " - `StructuredOrthogonalRandomFeature`\n",
    " - `SignedCirculantRandomMatrix` \n",
    " - Higher score is better\n",
    " - Lower time is better\n",
    " - Unfortunately, structured random features are not so fast since the number of features is small (=123)"
   ]
  },
  {
   "cell_type": "code",
   "execution_count": 4,
   "metadata": {},
   "outputs": [
    {
     "name": "stdout",
     "output_type": "stream",
     "text": [
      "0.8151871657754011\n",
      "CPU times: user 27.3 s, sys: 250 ms, total: 27.6 s\n",
      "Wall time: 27.7 s\n"
     ]
    }
   ],
   "source": [
    "%%time\n",
    "# Non-linear SVC\n",
    "svc = SVC(kernel='rbf', gamma=0.001, random_state=0)\n",
    "svc.fit(X_train, y_train)\n",
    "print(svc.score(X_test, y_test))"
   ]
  },
  {
   "cell_type": "code",
   "execution_count": 5,
   "metadata": {},
   "outputs": [
    {
     "name": "stdout",
     "output_type": "stream",
     "text": [
      "0.8220320855614973\n",
      "CPU times: user 4.75 s, sys: 281 ms, total: 5.03 s\n",
      "Wall time: 4.99 s\n"
     ]
    }
   ],
   "source": [
    "%%time\n",
    "# LinearSVC with RBFSampler\n",
    "transformer = RBFSampler(n_components=1024, gamma=0.001, random_state=0)\n",
    "X_train_trans = transformer.fit_transform(X_train)\n",
    "X_test_trans = transformer.transform(X_test)\n",
    "clf = LinearSVC(dual=False, C=1)\n",
    "clf.fit(X_train_trans, y_train)\n",
    "print(clf.score(X_test_trans, y_test))"
   ]
  },
  {
   "cell_type": "code",
   "execution_count": 6,
   "metadata": {},
   "outputs": [
    {
     "name": "stderr",
     "output_type": "stream",
     "text": [
      "/mnt/c/Users/kyohei/home_ubuntu/.local/share/virtualenvs/pipenv3.7.4-rkmnVTJV/lib/python3.7/site-packages/sklearn/externals/six.py:31: DeprecationWarning: The module is deprecated in version 0.21 and will be removed in version 0.23 since we've dropped support for Python 2.7. Please rely on the official version of six (https://pypi.org/project/six/).\n",
      "  \"(https://pypi.org/project/six/).\", DeprecationWarning)\n"
     ]
    }
   ],
   "source": [
    "from pyrfm import RandomFourier, FastFood, SignedCirculantRandomMatrix\n",
    "from pyrfm import OrthogonalRandomFeature, StructuredOrthogonalRandomFeature"
   ]
  },
  {
   "cell_type": "code",
   "execution_count": 7,
   "metadata": {},
   "outputs": [
    {
     "name": "stdout",
     "output_type": "stream",
     "text": [
      "0.8213903743315508\n",
      "CPU times: user 4.28 s, sys: 547 ms, total: 4.83 s\n",
      "Wall time: 4.88 s\n"
     ]
    }
   ],
   "source": [
    "%%time\n",
    "# LinearSVC with RandomFourier with use_offset=False (Z=(cos, sin, cos, sin, ...))\n",
    "transformer = RandomFourier(n_components=1024, gamma=0.001, use_offset=False,\n",
    "                            random_state=0)\n",
    "X_train_trans = transformer.fit_transform(X_train)\n",
    "X_test_trans = transformer.transform(X_test)\n",
    "clf = LinearSVC(dual=False, C=1)\n",
    "clf.fit(X_train_trans, y_train)\n",
    "print(clf.score(X_test_trans, y_test))"
   ]
  },
  {
   "cell_type": "code",
   "execution_count": 8,
   "metadata": {},
   "outputs": [
    {
     "name": "stdout",
     "output_type": "stream",
     "text": [
      "0.8220320855614973\n",
      "CPU times: user 4.92 s, sys: 359 ms, total: 5.28 s\n",
      "Wall time: 5.28 s\n"
     ]
    }
   ],
   "source": [
    "%%time\n",
    "# LinearSVC with RandomFourier with use_offset=True (Z=(cos, cos, ...))\n",
    "transformer = RandomFourier(n_components=1024, gamma=0.001, use_offset=True,\n",
    "                            random_state=0)\n",
    "X_train_trans = transformer.fit_transform(X_train)\n",
    "X_test_trans = transformer.transform(X_test)\n",
    "clf = LinearSVC(dual=False, C=1)\n",
    "clf.fit(X_train_trans, y_train)\n",
    "print(clf.score(X_test_trans, y_test))"
   ]
  },
  {
   "cell_type": "code",
   "execution_count": 9,
   "metadata": {},
   "outputs": [
    {
     "name": "stderr",
     "output_type": "stream",
     "text": [
      "/mnt/c/Users/kyohei/home_ubuntu/.local/share/virtualenvs/pipenv3.7.4-rkmnVTJV/lib/python3.7/site-packages/pyrfm-0.1.dev0-py3.7-linux-x86_64.egg/pyrfm/random_feature/orthogonal_random_feature.py:117: UserWarning: n_components is changed from 1024 to 1107. You should set n_components to an n-tuple of n_features.\n",
      "  warnings.warn(msg)\n",
      "/mnt/c/Users/kyohei/home_ubuntu/.local/share/virtualenvs/pipenv3.7.4-rkmnVTJV/lib/python3.7/site-packages/pyrfm-0.1.dev0-py3.7-linux-x86_64.egg/pyrfm/random_feature/orthogonal_random_feature.py:129: UserWarning: n_components is changed from 1107 to 1230. When random_fourier=True and use_offset=False,  n_components should be larger than 2*n_features.\n",
      "  warnings.warn(msg)\n"
     ]
    },
    {
     "name": "stdout",
     "output_type": "stream",
     "text": [
      "0.8211764705882353\n",
      "CPU times: user 6.06 s, sys: 891 ms, total: 6.95 s\n",
      "Wall time: 6.68 s\n"
     ]
    }
   ],
   "source": [
    "%%time\n",
    "# LinearSVC with OrthogonalRandomFeature \n",
    "transformer = OrthogonalRandomFeature(n_components=1024, gamma=0.001, \n",
    "                                      random_state=0)\n",
    "X_train_trans = transformer.fit_transform(X_train)\n",
    "X_test_trans = transformer.transform(X_test)\n",
    "clf = LinearSVC(dual=False, C=1)\n",
    "clf.fit(X_train_trans, y_train)\n",
    "print(clf.score(X_test_trans, y_test))"
   ]
  },
  {
   "cell_type": "code",
   "execution_count": 10,
   "metadata": {},
   "outputs": [
    {
     "name": "stderr",
     "output_type": "stream",
     "text": [
      "/mnt/c/Users/kyohei/home_ubuntu/.local/share/virtualenvs/pipenv3.7.4-rkmnVTJV/lib/python3.7/site-packages/pyrfm-0.1.dev0-py3.7-linux-x86_64.egg/pyrfm/random_feature/orthogonal_random_feature.py:117: UserWarning: n_components is changed from 1024 to 1107. You should set n_components to an n-tuple of n_features.\n",
      "  warnings.warn(msg)\n"
     ]
    },
    {
     "name": "stdout",
     "output_type": "stream",
     "text": [
      "0.8224598930481284\n",
      "CPU times: user 5.33 s, sys: 1.05 s, total: 6.38 s\n",
      "Wall time: 6.3 s\n"
     ]
    }
   ],
   "source": [
    "%%time\n",
    "# LinearSVC with OrthogonalRandomFeature \n",
    "transformer = OrthogonalRandomFeature(n_components=1024, gamma=0.001, \n",
    "                                      random_state=0, use_offset=True)\n",
    "X_train_trans = transformer.fit_transform(X_train)\n",
    "X_test_trans = transformer.transform(X_test)\n",
    "clf = LinearSVC(dual=False, C=1)\n",
    "clf.fit(X_train_trans, y_train)\n",
    "print(clf.score(X_test_trans, y_test))"
   ]
  },
  {
   "cell_type": "code",
   "execution_count": 11,
   "metadata": {},
   "outputs": [
    {
     "name": "stdout",
     "output_type": "stream",
     "text": [
      "0.8224598930481284\n",
      "CPU times: user 5.52 s, sys: 188 ms, total: 5.7 s\n",
      "Wall time: 5.7 s\n"
     ]
    }
   ],
   "source": [
    "%%time\n",
    "# LinearSVC with StructuredOrthogonalRandomFeature\n",
    "transformer = StructuredOrthogonalRandomFeature(n_components=1024, gamma=0.001, \n",
    "                                                random_state=0)\n",
    "X_train_trans = transformer.fit_transform(X_train)\n",
    "X_test_trans = transformer.transform(X_test)\n",
    "clf = LinearSVC(dual=False, C=1)\n",
    "clf.fit(X_train_trans, y_train)\n",
    "print(clf.score(X_test_trans, y_test))"
   ]
  },
  {
   "cell_type": "code",
   "execution_count": 11,
   "metadata": {},
   "outputs": [
    {
     "name": "stdout",
     "output_type": "stream",
     "text": [
      "0.8222459893048129\n",
      "CPU times: user 5.17 s, sys: 172 ms, total: 5.34 s\n",
      "Wall time: 5.38 s\n"
     ]
    }
   ],
   "source": [
    "%%time\n",
    "# LinearSVC with FastFood\n",
    "transformer = FastFood(n_components=1024, gamma=0.001, random_state=0,\n",
    "                       random_fourier=True)\n",
    "X_train_trans = transformer.fit_transform(X_train)\n",
    "X_test_trans = transformer.transform(X_test)\n",
    "clf = LinearSVC(dual=False, C=1)\n",
    "clf.fit(X_train_trans, y_train)\n",
    "print(clf.score(X_test_trans, y_test))"
   ]
  },
  {
   "cell_type": "code",
   "execution_count": 12,
   "metadata": {},
   "outputs": [
    {
     "name": "stderr",
     "output_type": "stream",
     "text": [
      "/mnt/c/Users/kyohei/home_ubuntu/.local/share/virtualenvs/pipenv3.7.4-rkmnVTJV/lib/python3.7/site-packages/pyrfm-0.1.dev0-py3.7-linux-x86_64.egg/pyrfm/random_feature/signed_circulant_random_projection.py:117: UserWarning: n_components is changed from 1024 to 1107. You should set n_components n-tuple of the n_features.\n",
      "  .format(self.n_components, n_components))\n"
     ]
    },
    {
     "name": "stdout",
     "output_type": "stream",
     "text": [
      "0.8218181818181818\n",
      "CPU times: user 7.81 s, sys: 125 ms, total: 7.94 s\n",
      "Wall time: 8 s\n"
     ]
    }
   ],
   "source": [
    "%%time\n",
    "# LinearSVC with SignedCirculantRandomMatrix\n",
    "transformer = SignedCirculantRandomMatrix(n_components=1024, gamma=0.001, random_state=0,\n",
    "                                          random_fourier=True)\n",
    "X_train_trans = transformer.fit_transform(X_train)\n",
    "X_test_trans = transformer.transform(X_test)\n",
    "clf = LinearSVC(dual=False, C=1)\n",
    "clf.fit(X_train_trans, y_train)\n",
    "print(clf.score(X_test_trans, y_test))"
   ]
  },
  {
   "cell_type": "code",
   "execution_count": 13,
   "metadata": {},
   "outputs": [],
   "source": [
    "import timeit"
   ]
  },
  {
   "cell_type": "markdown",
   "metadata": {},
   "source": [
    "### Comparison of the transform times on relativey high-dimensional data among `RBFSampler`, `StructuredOrthogonalRandomFeature`, `Fastfood`, and `SignedCirculantRandomMatrix`\n",
    " - Generate datasets with various number of features\n",
    " - Lower is better\n",
    " - `RBFSampler` (=`RandomFourier`): Linear time\n",
    " - Others: Log time\n"
   ]
  },
  {
   "cell_type": "code",
   "execution_count": 14,
   "metadata": {},
   "outputs": [
    {
     "name": "stdout",
     "output_type": "stream",
     "text": [
      "n_features: 256\n",
      "RBFSampler: 6.341798940001172\n",
      "StructuredOrthogonalRandomFeature: 10.031601940000836\n",
      "FastFood: 8.455899459999637\n",
      "SignedCirculantRandomFeature: 19.58160685999901\n",
      "\n",
      "n_features: 512\n",
      "RBFSampler: 7.434289660000649\n",
      "StructuredOrthogonalRandomFeature: 10.474995040000067\n",
      "FastFood: 8.567313080000167\n",
      "SignedCirculantRandomFeature: 18.97524861999991\n",
      "\n",
      "n_features: 1024\n",
      "RBFSampler: 9.611982019999413\n",
      "StructuredOrthogonalRandomFeature: 9.94568295999925\n",
      "FastFood: 8.442773759999545\n",
      "SignedCirculantRandomFeature: 19.14509861999977\n",
      "\n",
      "n_features: 2048\n",
      "RBFSampler: 14.157976419999613\n",
      "StructuredOrthogonalRandomFeature: 10.252035320000141\n",
      "FastFood: 8.473272200000064\n",
      "SignedCirculantRandomFeature: 19.83217255999916\n",
      "\n",
      "n_features: 4096\n",
      "RBFSampler: 24.676896960000157\n",
      "StructuredOrthogonalRandomFeature: 10.095617659999698\n",
      "FastFood: 8.539829139999346\n",
      "SignedCirculantRandomFeature: 22.40396458000032\n",
      "\n",
      "RBFSampler: [6.341798940001172, 7.434289660000649, 9.611982019999413, 14.157976419999613, 24.676896960000157]\n",
      "StructuredOrthogonalRandomFeature: [10.031601940000836, 10.474995040000067, 9.94568295999925, 10.252035320000141, 10.095617659999698]\n",
      "FastFood: [8.455899459999637, 8.567313080000167, 8.442773759999545, 8.473272200000064, 8.539829139999346]\n",
      "SignedCirculantRandomMatrix: [19.58160685999901, 18.97524861999991, 19.14509861999977, 19.83217255999916, 22.40396458000032]\n"
     ]
    }
   ],
   "source": [
    "rbf_times = []\n",
    "fastfood_times = []\n",
    "struc_times = []\n",
    "signed_times = []\n",
    "\n",
    "n_samples = 2**14\n",
    "n_components = 8192\n",
    "n_trials = 5\n",
    "for n_features in [256, 512, 1024, 2048, 4096]:\n",
    "    print(\"n_features: {}\".format(n_features))\n",
    "    X_synthesis = np.random.randn(n_samples, n_features)\n",
    "\n",
    "    rbf = RBFSampler(n_components=n_components)\n",
    "    result = timeit.timeit(\"rbf.fit_transform(X_synthesis)\", \n",
    "                           number=n_trials, globals=globals())\n",
    "    result /= n_trials\n",
    "    rbf_times += [result]\n",
    "    print(\"RBFSampler: {}\".format(result))\n",
    "    \n",
    "    struc = StructuredOrthogonalRandomFeature(n_components=n_components)\n",
    "    result = timeit.timeit(\"struc.fit_transform(X_synthesis)\", \n",
    "                           number=n_trials, globals=globals())\n",
    "    result /= n_trials\n",
    "    struc_times += [result]\n",
    "    print(\"StructuredOrthogonalRandomFeature: {}\".format(result))\n",
    "        \n",
    "    fastfood = FastFood(n_components=n_components)\n",
    "    result = timeit.timeit(\"fastfood.fit_transform(X_synthesis)\", \n",
    "                           number=n_trials, globals=globals())\n",
    "    result /= n_trials\n",
    "    fastfood_times += [result]\n",
    "    print(\"FastFood: {}\".format(result))\n",
    "\n",
    "    signed = SignedCirculantRandomMatrix(n_components=n_components)\n",
    "    result = timeit.timeit(\"signed.fit_transform(X_synthesis)\", \n",
    "                           number=n_trials, globals=globals())\n",
    "    result /= n_trials\n",
    "    signed_times += [result]\n",
    "    print(\"SignedCirculantRandomFeature: {}\".format(result))\n",
    "    print()\n",
    "\n",
    "print(\"RBFSampler: {}\".format(rbf_times))\n",
    "print(\"StructuredOrthogonalRandomFeature: {}\".format(struc_times))\n",
    "print(\"FastFood: {}\".format(fastfood_times))\n",
    "print(\"SignedCirculantRandomMatrix: {}\".format(signed_times))"
   ]
  },
  {
   "cell_type": "code",
   "execution_count": 15,
   "metadata": {},
   "outputs": [],
   "source": [
    "import matplotlib.pyplot as plt"
   ]
  },
  {
   "cell_type": "code",
   "execution_count": 16,
   "metadata": {},
   "outputs": [
    {
     "data": {
      "image/png": "[encoded data removed]",
      "text/plain": [
       "<Figure size 432x288 with 1 Axes>"
      ]
     },
     "metadata": {
      "needs_background": "light"
     },
     "output_type": "display_data"
    }
   ],
   "source": [
    "%matplotlib inline\n",
    "list_n_features = [256, 512, 1024, 2048, 4096]\n",
    "plt.plot(list_n_features, rbf_times, label='RBFSampler')\n",
    "plt.plot(list_n_features, struc_times, label='StructuredOrthogonal')\n",
    "plt.plot(list_n_features, fastfood_times, label='FastFood')\n",
    "plt.plot(list_n_features, signed_times, label='SignedCirculant')\n",
    "plt.legend()\n",
    "plt.xlabel(\"Number of features (log-scale)\")\n",
    "plt.ylabel(\"Time for transform (s)\")\n",
    "plt.xscale('log')\n",
    "plt.show()"
   ]
  },
  {
   "cell_type": "code",
   "execution_count": null,
   "metadata": {},
   "outputs": [],
   "source": []
  }
 ],
 "metadata": {
  "kernelspec": {
   "display_name": "Python 3",
   "language": "python",
   "name": "python3"
  },
  "language_info": {
   "codemirror_mode": {
    "name": "ipython",
    "version": 3
   },
   "file_extension": ".py",
   "mimetype": "text/x-python",
   "name": "python",
   "nbconvert_exporter": "python",
   "pygments_lexer": "ipython3",
   "version": "3.7.4"
  }
 },
 "nbformat": 4,
 "nbformat_minor": 4
}
