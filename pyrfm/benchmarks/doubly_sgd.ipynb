{
 "cells": [
  {
   "cell_type": "markdown",
   "metadata": {},
   "source": [
    "# Linear models in pyrfm\n",
    "In this example, we run `SDCAClassifier` and `DoublySGDClassifier`, which are linear classifiers implemented in pyrfm.\n",
    "The features of linear models using stochastic optimizers in pyrfm are as follows:\n",
    " - They do not compute the random features of all samples at the same time\n",
    " - They compute the random features of each sample at each iteration\n",
    " - So, **memory efficient** but **slow**\n",
    " - So, you should use these implementation **only when the size of the training data is large and you cannot allocate memory for the random feature matrix of your training data**\n",
    " - Similarly for other linear models: `SGDClassifier`, `SAGAClassifier`, `AdaGradClassifier`, `AdamClassfier` and their regressors\n",
    " - `DoublySGDClassifier` (and `DoublySGDRegressor`) **increases the number of random features at every iteration**\n",
    " - `DoublySGDClassifier` does not keep the random weights explicitly but samples them at each iteration (with same seed)"
   ]
  },
  {
   "cell_type": "code",
   "execution_count": 1,
   "metadata": {},
   "outputs": [],
   "source": [
    "from sklearn.datasets import fetch_mldata\n",
    "from sklearn.svm import SVC, LinearSVC\n",
    "from sklearn.kernel_approximation import RBFSampler\n",
    "from sklearn.utils import shuffle\n",
    "import numpy as np"
   ]
  },
  {
   "cell_type": "code",
   "execution_count": 2,
   "metadata": {},
   "outputs": [
    {
     "name": "stdout",
     "output_type": "stream",
     "text": [
      "(18699, 123) (18699,) (4675, 123) (4675,)\n"
     ]
    },
    {
     "name": "stderr",
     "output_type": "stream",
     "text": [
      "/mnt/c/Users/kyohei/home_ubuntu/.local/share/virtualenvs/pipenv3.7.4-rkmnVTJV/lib/python3.7/site-packages/sklearn/utils/deprecation.py:85: DeprecationWarning: Function fetch_mldata is deprecated; fetch_mldata was deprecated in version 0.20 and will be removed in version 0.22. Please use fetch_openml.\n",
      "  warnings.warn(msg, category=DeprecationWarning)\n",
      "/mnt/c/Users/kyohei/home_ubuntu/.local/share/virtualenvs/pipenv3.7.4-rkmnVTJV/lib/python3.7/site-packages/sklearn/utils/deprecation.py:85: DeprecationWarning: Function mldata_filename is deprecated; mldata_filename was deprecated in version 0.20 and will be removed in version 0.22. Please use fetch_openml.\n",
      "  warnings.warn(msg, category=DeprecationWarning)\n"
     ]
    }
   ],
   "source": [
    "a9a = fetch_mldata('a9a')\n",
    "X, y = a9a.data, a9a.target\n",
    "random_state = np.random.RandomState(0)\n",
    "X, y = shuffle(X, y, random_state=random_state)\n",
    "\n",
    "# undersampling\n",
    "pos_indices = np.where(y > 0)[0]\n",
    "neg_indices = np.where(y < 0)[0]\n",
    "indices = np.sort(np.append(pos_indices, neg_indices[:len(pos_indices)]))\n",
    "X, y = X[indices], y[indices]\n",
    "X, y = shuffle(X, y, random_state=random_state)\n",
    "\n",
    "# train/test split\n",
    "n_train = int(0.8 * X.shape[0])\n",
    "X_train, y_train = X[:n_train], y[:n_train]\n",
    "X_test, y_test = X[n_train:], y[n_train:]\n",
    "print(X_train.shape, y_train.shape, X_test.shape, y_test.shape)"
   ]
  },
  {
   "cell_type": "code",
   "execution_count": 3,
   "metadata": {},
   "outputs": [],
   "source": [
    "# standarize\n",
    "from sklearn.preprocessing import StandardScaler\n",
    "ss = StandardScaler(with_mean=False)\n",
    "X_train = ss.fit_transform(X_train)\n",
    "X_test = ss.transform(X_test)"
   ]
  },
  {
   "cell_type": "markdown",
   "metadata": {},
   "source": [
    "## Comparison methods\n",
    "- `SVC` with RBF kernel and `LinearSVC` with `RBFSampler`"
   ]
  },
  {
   "cell_type": "code",
   "execution_count": 4,
   "metadata": {},
   "outputs": [
    {
     "name": "stdout",
     "output_type": "stream",
     "text": [
      "0.8151871657754011\n",
      "CPU times: user 27 s, sys: 297 ms, total: 27.3 s\n",
      "Wall time: 27.5 s\n"
     ]
    }
   ],
   "source": [
    "%%time\n",
    "# Non-linear SVC\n",
    "svc = SVC(kernel='rbf', gamma=0.001, random_state=0)\n",
    "svc.fit(X_train, y_train)\n",
    "print(svc.score(X_test, y_test))"
   ]
  },
  {
   "cell_type": "code",
   "execution_count": 5,
   "metadata": {},
   "outputs": [
    {
     "name": "stdout",
     "output_type": "stream",
     "text": [
      "0.8220320855614973\n",
      "CPU times: user 4.73 s, sys: 297 ms, total: 5.03 s\n",
      "Wall time: 5.13 s\n"
     ]
    }
   ],
   "source": [
    "%%time\n",
    "# LinearSVC with RBFSampler\n",
    "transformer = RBFSampler(n_components=1024, gamma=0.001, random_state=0)\n",
    "X_train_trans = transformer.fit_transform(X_train)\n",
    "X_test_trans = transformer.transform(X_test)\n",
    "clf = LinearSVC(dual=False, C=1)\n",
    "clf.fit(X_train_trans, y_train)\n",
    "print(clf.score(X_test_trans, y_test))"
   ]
  },
  {
   "cell_type": "markdown",
   "metadata": {},
   "source": [
    "## Linear models in pyrfm"
   ]
  },
  {
   "cell_type": "code",
   "execution_count": 6,
   "metadata": {},
   "outputs": [
    {
     "name": "stderr",
     "output_type": "stream",
     "text": [
      "/mnt/c/Users/kyohei/home_ubuntu/.local/share/virtualenvs/pipenv3.7.4-rkmnVTJV/lib/python3.7/site-packages/sklearn/externals/six.py:31: DeprecationWarning: The module is deprecated in version 0.21 and will be removed in version 0.23 since we've dropped support for Python 2.7. Please rely on the official version of six (https://pypi.org/project/six/).\n",
      "  \"(https://pypi.org/project/six/).\", DeprecationWarning)\n"
     ]
    }
   ],
   "source": [
    "from pyrfm import SDCAClassifier, DoublySGDClassifier"
   ]
  },
  {
   "cell_type": "code",
   "execution_count": 7,
   "metadata": {},
   "outputs": [
    {
     "name": "stdout",
     "output_type": "stream",
     "text": [
      "Iteration: 1 Accuracy: 0.811123\n",
      "Iteration: 2 Accuracy: 0.805348\n",
      "Iteration: 3 Accuracy: 0.808556\n",
      "Iteration: 4 Accuracy: 0.808556\n",
      "Iteration: 5 Accuracy: 0.809412\n",
      "Iteration: 6 Accuracy: 0.80877\n",
      "Iteration: 7 Accuracy: 0.808342\n",
      "Iteration: 8 Accuracy: 0.808556\n",
      "Iteration: 9 Accuracy: 0.808984\n",
      "Iteration: 10 Accuracy: 0.808342\n",
      "CPU times: user 8.97 s, sys: 15.6 ms, total: 8.98 s\n",
      "Wall time: 8.96 s\n"
     ]
    }
   ],
   "source": [
    "%%time\n",
    "# SDCAClassifier with RBFSampler\n",
    "# It is slow because the stochasitc solvers in pyrfm compute the random feature\n",
    "# of each sample at each iteration\n",
    "transformer = RBFSampler(n_components=1024, gamma=0.001, random_state=0)\n",
    "# Do not transform before fitting\n",
    "clf = SDCAClassifier(transformer, alpha=0.01, tol=1e-5, max_iter=1,\n",
    "                     verbose=False, random_state=0, warm_start=True,\n",
    "                     shuffle=True)\n",
    "for i in range(10):\n",
    "    clf.fit(X_train, y_train)\n",
    "    print('Iteration: {} Accuracy: {:4g}'.format(i+1, clf.score(X_test, y_test)))"
   ]
  },
  {
   "cell_type": "code",
   "execution_count": 11,
   "metadata": {},
   "outputs": [
    {
     "name": "stdout",
     "output_type": "stream",
     "text": [
      "Iteration: 1 Accuracy: 0.786738 Time: 0.711 (s)\n",
      "Iteration: 2 Accuracy: 0.796578 Time: 2.78 (s)\n",
      "Iteration: 3 Accuracy: 0.804278 Time: 6.36 (s)\n",
      "Iteration: 4 Accuracy: 0.802781 Time: 11.3 (s)\n",
      "Iteration: 5 Accuracy: 0.804064 Time: 17.6 (s)\n",
      "Iteration: 6 Accuracy: 0.807487 Time: 25.3 (s)\n",
      "Iteration: 7 Accuracy: 0.807273 Time: 34.4 (s)\n",
      "Iteration: 8 Accuracy: 0.806417 Time: 44.9 (s)\n",
      "Iteration: 9 Accuracy: 0.805348 Time: 56.8 (s)\n",
      "Iteration: 10 Accuracy: 0.805989 Time: 70 (s)\n",
      "CPU times: user 1min 11s, sys: 31.2 ms, total: 1min 11s\n",
      "Wall time: 1min 11s\n"
     ]
    }
   ],
   "source": [
    "%%time\n",
    "import time\n",
    "# DoublySGDClassifier with RBFSampler\n",
    "# It is slow because the stochasitc solvers in pyrfm compute the random feature\n",
    "# of each sample at each iteration\n",
    "transformer = RBFSampler(gamma=0.001, random_state=0)\n",
    "# Do not transform before fitting\n",
    "clf = DoublySGDClassifier(transformer, eta0=.01, alpha=1e-2, power_t=1,\n",
    "                          max_iter=1, batch_size=128, n_bases_sampled=4,\n",
    "                          verbose=False, random_state=True, warm_start=True)\n",
    "start = time.time()\n",
    "# The number of random features increases at every iteration\n",
    "# So, the running time also increases\n",
    "for i in range(10):\n",
    "    clf.fit(X_train, y_train)\n",
    "    stop = time.time()\n",
    "    print('Iteration: {} Accuracy: {:4g} Time: {:.3g} (s)'\n",
    "          .format(i+1, clf.score(X_test, y_test), stop - start))"
   ]
  },
  {
   "cell_type": "code",
   "execution_count": 18,
   "metadata": {},
   "outputs": [
    {
     "name": "stdout",
     "output_type": "stream",
     "text": [
      "(5880,)\n",
      "5880\n"
     ]
    }
   ],
   "source": [
    "print(clf.coef_.shape)\n",
    "print(clf.n_bases_sampled * int((X_train.shape[0]-1)/clf.batch_size+1)*10)"
   ]
  },
  {
   "cell_type": "code",
   "execution_count": null,
   "metadata": {},
   "outputs": [],
   "source": []
  }
 ],
 "metadata": {
  "kernelspec": {
   "display_name": "Python 3",
   "language": "python",
   "name": "python3"
  },
  "language_info": {
   "codemirror_mode": {
    "name": "ipython",
    "version": 3
   },
   "file_extension": ".py",
   "mimetype": "text/x-python",
   "name": "python",
   "nbconvert_exporter": "python",
   "pygments_lexer": "ipython3",
   "version": "3.7.4"
  }
 },
 "nbformat": 4,
 "nbformat_minor": 4
}
